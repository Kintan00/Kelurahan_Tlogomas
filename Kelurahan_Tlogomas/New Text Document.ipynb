import pandas as pd

# Data dari user (dalam format list panjang)
raw_data = """
I. Penyediaan Akomodasi Dan Penyediaan Makan Minum
I. Penyediaan Akomodasi Dan Penyediaan Makan Minum
G. Perdagangan Besar Dan Eceran; Reparasi Dan Perawatan Mobil Dan Sepeda Motor
G. Perdagangan Besar Dan Eceran; Reparasi Dan Perawatan Mobil Dan Sepeda Motor
J. Informasi Dan Komunikasi
I. Penyediaan Akomodasi Dan Penyediaan Makan Minum
I. Penyediaan Akomodasi Dan Penyediaan Makan Minum
C. Industri Pengolahan
I. Penyediaan Akomodasi Dan Penyediaan Makan Minum
A. Pertanian. Kehutanan dan Perikanan
I. Penyediaan Akomodasi Dan Penyediaan Makan Minum
N. Aktivitas Penyewaan dan Sewa Guna Usaha Tanpa Hak Opsi. Ketenagakerjaan. Agen Perjalanan dan Penunjang Usaha Lainnya
I. Penyediaan Akomodasi Dan Penyediaan Makan Minum
C. Industri Pengolahan
C. Industri Pengolahan
N. Aktivitas Penyewaan dan Sewa Guna Usaha Tanpa Hak Opsi. Ketenagakerjaan. Agen Perjalanan dan Penunjang Usaha Lainnya
G. Perdagangan Besar Dan Eceran; Reparasi Dan Perawatan Mobil Dan Sepeda Motor
I. Penyediaan Akomodasi Dan Penyediaan Makan Minum
I. Penyediaan Akomodasi Dan Penyediaan Makan Minum
... (dipotong agar tidak terlalu panjang)
"""

# Pisahkan per baris dan bersihkan data
kategori_list = [line.strip() for line in raw_data.strip().split('\n') if line.strip()]

# Buat DataFrame
df = pd.DataFrame(kategori_list, columns=["Kategori Lapangan Usaha"])

# Sort berdasarkan huruf kategori (misal: A., C., G., ...)
df_sorted = df.sort_values(by="Kategori Lapangan Usaha", key=lambda x: x.str[:1])

# Simpan ke file Excel
output_path = "/mnt/data/Data_Usaha_Tlogomas.xlsx"
df_sorted.to_excel(output_path, index=False)

output_path
